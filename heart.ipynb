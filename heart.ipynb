{
 "cells": [
  {
   "cell_type": "code",
   "execution_count": 45,
   "id": "eefed872",
   "metadata": {},
   "outputs": [],
   "source": [
    "import pandas as pd \n",
    "import numpy as np\n",
    "from sklearn.preprocessing import LabelEncoder\n",
    "from sklearn.neighbors import KNeighborsClassifier\n",
    "from sklearn.naive_bayes import GaussianNB\n",
    "from sklearn.model_selection import train_test_split, GridSearchCV\n",
    "from sklearn.linear_model import LogisticRegression\n",
    "from sklearn.ensemble import RandomForestClassifier\n",
    "from sklearn.preprocessing import StandardScaler\n",
    "from sklearn.metrics import confusion_matrix, classification_report, accuracy_score"
   ]
  },
  {
   "cell_type": "code",
   "execution_count": 46,
   "id": "8316ac26",
   "metadata": {},
   "outputs": [
    {
     "data": {
      "text/html": [
       "<div>\n",
       "<style scoped>\n",
       "    .dataframe tbody tr th:only-of-type {\n",
       "        vertical-align: middle;\n",
       "    }\n",
       "\n",
       "    .dataframe tbody tr th {\n",
       "        vertical-align: top;\n",
       "    }\n",
       "\n",
       "    .dataframe thead th {\n",
       "        text-align: right;\n",
       "    }\n",
       "</style>\n",
       "<table border=\"1\" class=\"dataframe\">\n",
       "  <thead>\n",
       "    <tr style=\"text-align: right;\">\n",
       "      <th></th>\n",
       "      <th>Age</th>\n",
       "      <th>Sex</th>\n",
       "      <th>ChestPainType</th>\n",
       "      <th>RestingBP</th>\n",
       "      <th>Cholesterol</th>\n",
       "      <th>FastingBS</th>\n",
       "      <th>RestingECG</th>\n",
       "      <th>MaxHR</th>\n",
       "      <th>ExerciseAngina</th>\n",
       "      <th>Oldpeak</th>\n",
       "      <th>ST_Slope</th>\n",
       "      <th>HeartDisease</th>\n",
       "    </tr>\n",
       "  </thead>\n",
       "  <tbody>\n",
       "    <tr>\n",
       "      <th>0</th>\n",
       "      <td>40</td>\n",
       "      <td>M</td>\n",
       "      <td>ATA</td>\n",
       "      <td>140</td>\n",
       "      <td>289</td>\n",
       "      <td>0</td>\n",
       "      <td>Normal</td>\n",
       "      <td>172</td>\n",
       "      <td>N</td>\n",
       "      <td>0.0</td>\n",
       "      <td>Up</td>\n",
       "      <td>0</td>\n",
       "    </tr>\n",
       "    <tr>\n",
       "      <th>1</th>\n",
       "      <td>49</td>\n",
       "      <td>F</td>\n",
       "      <td>NAP</td>\n",
       "      <td>160</td>\n",
       "      <td>180</td>\n",
       "      <td>0</td>\n",
       "      <td>Normal</td>\n",
       "      <td>156</td>\n",
       "      <td>N</td>\n",
       "      <td>1.0</td>\n",
       "      <td>Flat</td>\n",
       "      <td>1</td>\n",
       "    </tr>\n",
       "    <tr>\n",
       "      <th>2</th>\n",
       "      <td>37</td>\n",
       "      <td>M</td>\n",
       "      <td>ATA</td>\n",
       "      <td>130</td>\n",
       "      <td>283</td>\n",
       "      <td>0</td>\n",
       "      <td>ST</td>\n",
       "      <td>98</td>\n",
       "      <td>N</td>\n",
       "      <td>0.0</td>\n",
       "      <td>Up</td>\n",
       "      <td>0</td>\n",
       "    </tr>\n",
       "    <tr>\n",
       "      <th>3</th>\n",
       "      <td>48</td>\n",
       "      <td>F</td>\n",
       "      <td>ASY</td>\n",
       "      <td>138</td>\n",
       "      <td>214</td>\n",
       "      <td>0</td>\n",
       "      <td>Normal</td>\n",
       "      <td>108</td>\n",
       "      <td>Y</td>\n",
       "      <td>1.5</td>\n",
       "      <td>Flat</td>\n",
       "      <td>1</td>\n",
       "    </tr>\n",
       "    <tr>\n",
       "      <th>4</th>\n",
       "      <td>54</td>\n",
       "      <td>M</td>\n",
       "      <td>NAP</td>\n",
       "      <td>150</td>\n",
       "      <td>195</td>\n",
       "      <td>0</td>\n",
       "      <td>Normal</td>\n",
       "      <td>122</td>\n",
       "      <td>N</td>\n",
       "      <td>0.0</td>\n",
       "      <td>Up</td>\n",
       "      <td>0</td>\n",
       "    </tr>\n",
       "  </tbody>\n",
       "</table>\n",
       "</div>"
      ],
      "text/plain": [
       "   Age Sex ChestPainType  RestingBP  Cholesterol  FastingBS RestingECG  MaxHR  \\\n",
       "0   40   M           ATA        140          289          0     Normal    172   \n",
       "1   49   F           NAP        160          180          0     Normal    156   \n",
       "2   37   M           ATA        130          283          0         ST     98   \n",
       "3   48   F           ASY        138          214          0     Normal    108   \n",
       "4   54   M           NAP        150          195          0     Normal    122   \n",
       "\n",
       "  ExerciseAngina  Oldpeak ST_Slope  HeartDisease  \n",
       "0              N      0.0       Up             0  \n",
       "1              N      1.0     Flat             1  \n",
       "2              N      0.0       Up             0  \n",
       "3              Y      1.5     Flat             1  \n",
       "4              N      0.0       Up             0  "
      ]
     },
     "execution_count": 46,
     "metadata": {},
     "output_type": "execute_result"
    }
   ],
   "source": [
    "df = pd.read_csv('data/heart.csv')\n",
    "df.head()"
   ]
  },
  {
   "cell_type": "code",
   "execution_count": 47,
   "id": "cb797616",
   "metadata": {},
   "outputs": [
    {
     "name": "stdout",
     "output_type": "stream",
     "text": [
      "Age               0\n",
      "Sex               0\n",
      "ChestPainType     0\n",
      "RestingBP         0\n",
      "Cholesterol       0\n",
      "FastingBS         0\n",
      "RestingECG        0\n",
      "MaxHR             0\n",
      "ExerciseAngina    0\n",
      "Oldpeak           0\n",
      "ST_Slope          0\n",
      "HeartDisease      0\n",
      "dtype: int64\n",
      "\n",
      "Count of null values 0\n",
      "\n",
      "Data type of features\n",
      " Age                 int64\n",
      "Sex                object\n",
      "ChestPainType      object\n",
      "RestingBP           int64\n",
      "Cholesterol         int64\n",
      "FastingBS           int64\n",
      "RestingECG         object\n",
      "MaxHR               int64\n",
      "ExerciseAngina     object\n",
      "Oldpeak           float64\n",
      "ST_Slope           object\n",
      "HeartDisease        int64\n",
      "dtype: object\n"
     ]
    }
   ],
   "source": [
    "print(df.isnull().sum())\n",
    "print('\\nCount of null values', df.duplicated().sum())\n",
    "print('\\nData type of features\\n', df.dtypes)"
   ]
  },
  {
   "cell_type": "code",
   "execution_count": 48,
   "id": "a80bb9fe",
   "metadata": {},
   "outputs": [
    {
     "name": "stdout",
     "output_type": "stream",
     "text": [
      "Sex values ['M' 'F']\n",
      "ChestPainType values ['ATA' 'NAP' 'ASY' 'TA']\n",
      "RestingECG values ['Normal' 'ST' 'LVH']\n",
      "ExerciseAngina values ['N' 'Y']\n",
      "ST_Slope values ['Up' 'Flat' 'Down']\n",
      "\n",
      "Data type of features\n",
      " Age                 int64\n",
      "Sex                 int32\n",
      "ChestPainType       int32\n",
      "RestingBP           int64\n",
      "Cholesterol         int64\n",
      "FastingBS           int64\n",
      "RestingECG          int32\n",
      "MaxHR               int64\n",
      "ExerciseAngina      int32\n",
      "Oldpeak           float64\n",
      "ST_Slope            int32\n",
      "HeartDisease        int64\n",
      "dtype: object\n"
     ]
    }
   ],
   "source": [
    "le = LabelEncoder()\n",
    "print('Sex values',df.Sex.unique())\n",
    "df.Sex = le.fit_transform(df['Sex'])\n",
    "print('ChestPainType values',df['ChestPainType'].unique())\n",
    "df.ChestPainType = le.fit_transform(df['ChestPainType'])\n",
    "print('RestingECG values',df['RestingECG'].unique())\n",
    "df.RestingECG = le.fit_transform(df['RestingECG'])\n",
    "print('ExerciseAngina values',df['ExerciseAngina'].unique())\n",
    "df.ExerciseAngina = le.fit_transform(df['ExerciseAngina'])\n",
    "print('ST_Slope values',df['ST_Slope'].unique())\n",
    "df.ST_Slope = le.fit_transform(df['ST_Slope'])\n",
    "print('\\nData type of features\\n', df.dtypes)"
   ]
  },
  {
   "cell_type": "code",
   "execution_count": 49,
   "id": "a1023ebf",
   "metadata": {},
   "outputs": [],
   "source": [
    "X = df.drop(columns='HeartDisease')\n",
    "y = df['HeartDisease']\n",
    "X_train, X_test, y_train, y_test = train_test_split(X,y,random_state=42,test_size=.3)\n",
    "sc = StandardScaler()\n",
    "X_train_ = sc.fit_transform(X_train)\n",
    "X_test_ = sc.transform(X_test)"
   ]
  },
  {
   "cell_type": "code",
   "execution_count": 50,
   "id": "64f7cd9b",
   "metadata": {},
   "outputs": [
    {
     "name": "stdout",
     "output_type": "stream",
     "text": [
      "Logistic Regression best paramater {'C': 1, 'max_iter': 1000, 'penalty': 'l2', 'solver': 'liblinear'}\n",
      "Logistic Regression best score 0.8411337209302324\n",
      "\n",
      "classificatin report:\n",
      "               precision    recall  f1-score   support\n",
      "\n",
      "           0       0.82      0.89      0.85       112\n",
      "           1       0.92      0.87      0.89       164\n",
      "\n",
      "    accuracy                           0.88       276\n",
      "   macro avg       0.87      0.88      0.87       276\n",
      "weighted avg       0.88      0.88      0.88       276\n",
      "\n"
     ]
    }
   ],
   "source": [
    "lrpram = {\n",
    "    'C' : [0.01,0.1,1,10],\n",
    "    'penalty': ['l2'],\n",
    "    'solver':['lbfgs','liblinear'],\n",
    "    'max_iter': [1000]\n",
    "}\n",
    "\n",
    "lr = GridSearchCV(LogisticRegression(), lrpram, cv = 5, scoring='accuracy')\n",
    "lr.fit(X_train_, y_train)\n",
    "lrpred = lr.best_estimator_.predict(X_test_)\n",
    "print('Logistic Regression best paramater', lr.best_params_)\n",
    "print('Logistic Regression best score', lr.best_score_)\n",
    "print('\\nclassificatin report:\\n', classification_report(y_test,lrpred))"
   ]
  },
  {
   "cell_type": "code",
   "execution_count": 51,
   "id": "3023f0b1",
   "metadata": {},
   "outputs": [
    {
     "name": "stdout",
     "output_type": "stream",
     "text": [
      "KNN best paramater {'metric': 'manhattan', 'n_neighbors': 10, 'weights': 'distance'}\n",
      "KNN best score 0.8707243217054262\n",
      "\n",
      "confusion matrix:\n",
      " [[101  11]\n",
      " [ 15 149]]\n",
      "\n",
      "classificatin report:\n",
      "               precision    recall  f1-score   support\n",
      "\n",
      "           0       0.87      0.90      0.89       112\n",
      "           1       0.93      0.91      0.92       164\n",
      "\n",
      "    accuracy                           0.91       276\n",
      "   macro avg       0.90      0.91      0.90       276\n",
      "weighted avg       0.91      0.91      0.91       276\n",
      "\n"
     ]
    }
   ],
   "source": [
    "knnpram = {\n",
    "    'n_neighbors':list(range(3,21)),\n",
    "    'weights':['uniform','distance'],\n",
    "    'metric':['euclidean', 'manhattan']\n",
    "}\n",
    "knn = GridSearchCV(KNeighborsClassifier(),knnpram,cv=5,scoring='accuracy')\n",
    "knn.fit(X_train_,y_train)\n",
    "knnpred = knn.best_estimator_.predict(X_test_)\n",
    "print('KNN best paramater', knn.best_params_)\n",
    "print('KNN best score', knn.best_score_)\n",
    "print('\\nconfusion matrix:\\n', confusion_matrix(y_test,knnpred))\n",
    "print('\\nclassificatin report:\\n', classification_report(y_test,knnpred))"
   ]
  },
  {
   "cell_type": "code",
   "execution_count": 52,
   "id": "461298a7",
   "metadata": {},
   "outputs": [
    {
     "name": "stdout",
     "output_type": "stream",
     "text": [
      "NB score 0.8731884057971014\n",
      "\n",
      "confusion matrix:\n",
      " [[ 98  14]\n",
      " [ 21 143]]\n",
      "\n",
      "classificatin report:\n",
      "               precision    recall  f1-score   support\n",
      "\n",
      "           0       0.82      0.88      0.85       112\n",
      "           1       0.91      0.87      0.89       164\n",
      "\n",
      "    accuracy                           0.87       276\n",
      "   macro avg       0.87      0.87      0.87       276\n",
      "weighted avg       0.88      0.87      0.87       276\n",
      "\n"
     ]
    }
   ],
   "source": [
    "nb = GaussianNB()\n",
    "nb.fit(X_train_,y_train)\n",
    "nbpred = nb.predict(X_test_)\n",
    "print('NB score', accuracy_score(y_test, nbpred))\n",
    "print('\\nconfusion matrix:\\n', confusion_matrix(y_test,nbpred))\n",
    "print('\\nclassificatin report:\\n', classification_report(y_test,nbpred))"
   ]
  },
  {
   "cell_type": "code",
   "execution_count": 56,
   "id": "3890a82c",
   "metadata": {},
   "outputs": [
    {
     "name": "stdout",
     "output_type": "stream",
     "text": [
      "RF best paramater {'max_depth': None, 'min_samples_leaf': 2, 'min_samples_split': 5, 'n_estimators': 100}\n",
      "RF best score 0.8597504844961239\n",
      "\n",
      "confusion matrix:\n",
      " [[ 97  15]\n",
      " [ 18 146]]\n",
      "\n",
      "classificatin report:\n",
      "               precision    recall  f1-score   support\n",
      "\n",
      "           0       0.84      0.87      0.85       112\n",
      "           1       0.91      0.89      0.90       164\n",
      "\n",
      "    accuracy                           0.88       276\n",
      "   macro avg       0.88      0.88      0.88       276\n",
      "weighted avg       0.88      0.88      0.88       276\n",
      "\n"
     ]
    }
   ],
   "source": [
    "rfpram = {\n",
    "    'n_estimators':[100,200],\n",
    "    'max_depth': [4, 6, 8, None],\n",
    "    'min_samples_split': [2, 5],\n",
    "    'min_samples_leaf': [1, 2]\n",
    "}\n",
    "rf = GridSearchCV(RandomForestClassifier(random_state=42),rfpram,cv=5,scoring='accuracy')\n",
    "rf.fit(X_train,y_train)\n",
    "rfpred = rf.best_estimator_.predict(X_test)\n",
    "print('RF best paramater', rf.best_params_)\n",
    "print('RF best score', rf.best_score_)\n",
    "print('\\nconfusion matrix:\\n', confusion_matrix(y_test,rfpred))\n",
    "print('\\nclassificatin report:\\n', classification_report(y_test,rfpred))"
   ]
  },
  {
   "cell_type": "code",
   "execution_count": 62,
   "id": "3776ee88",
   "metadata": {},
   "outputs": [
    {
     "name": "stdout",
     "output_type": "stream",
     "text": [
      "Logistic Regression AUC: 0.9280814459930313\n",
      "KNN AUC: 0.9492051393728224\n",
      "Naive Bayes AUC: 0.9329812717770035\n",
      "Random Forest AUC: 0.946945775261324\n"
     ]
    }
   ],
   "source": [
    "from sklearn.metrics import roc_auc_score\n",
    "\n",
    "print('Logistic Regression AUC:', roc_auc_score(y_test, lr.best_estimator_.predict_proba(X_test_)[:,1]))\n",
    "print('KNN AUC:', roc_auc_score(y_test, knn.best_estimator_.predict_proba(X_test_)[:,1]))\n",
    "print('Naive Bayes AUC:', roc_auc_score(y_test, nb.predict_proba(X_test_)[:,1]))\n",
    "print('Random Forest AUC:', roc_auc_score(y_test, rf.best_estimator_.predict_proba(X_test)[:,1]))\n"
   ]
  },
  {
   "cell_type": "code",
   "execution_count": null,
   "id": "5d1dfd98",
   "metadata": {},
   "outputs": [],
   "source": []
  }
 ],
 "metadata": {
  "kernelspec": {
   "display_name": "base",
   "language": "python",
   "name": "python3"
  },
  "language_info": {
   "codemirror_mode": {
    "name": "ipython",
    "version": 3
   },
   "file_extension": ".py",
   "mimetype": "text/x-python",
   "name": "python",
   "nbconvert_exporter": "python",
   "pygments_lexer": "ipython3",
   "version": "3.12.7"
  }
 },
 "nbformat": 4,
 "nbformat_minor": 5
}
